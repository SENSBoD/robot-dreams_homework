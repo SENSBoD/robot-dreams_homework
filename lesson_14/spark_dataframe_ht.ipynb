{
 "cells": [
  {
   "cell_type": "code",
   "metadata": {
    "collapsed": true,
    "ExecuteTime": {
     "end_time": "2024-05-29T19:14:29.214942Z",
     "start_time": "2024-05-29T19:14:29.210942Z"
    }
   },
   "source": [
    "from pyspark.sql import SparkSession, functions as F, types as T\n",
    "from pyspark.sql.functions import col, count, concat_ws, sum as _sum"
   ],
   "outputs": [],
   "execution_count": 19
  },
  {
   "cell_type": "code",
   "metadata": {
    "collapsed": false,
    "pycharm": {
     "is_executing": true
    },
    "ExecuteTime": {
     "end_time": "2024-05-29T18:38:18.625494Z",
     "start_time": "2024-05-29T18:38:18.614461Z"
    }
   },
   "source": "spark = SparkSession.builder.master('local[*]').getOrCreate()",
   "outputs": [],
   "execution_count": 6
  },
  {
   "cell_type": "code",
   "execution_count": null,
   "metadata": {
    "collapsed": false
   },
   "outputs": [],
   "source": [
    "print(spark.version)"
   ]
  },
  {
   "cell_type": "code",
   "metadata": {
    "collapsed": false,
    "ExecuteTime": {
     "end_time": "2024-05-29T17:33:02.805427Z",
     "start_time": "2024-05-29T17:32:54.340138Z"
    }
   },
   "source": [
    "actor_df = spark.read.csv('./data/actor.csv', header=True, inferSchema=True)\n",
    "address_df = spark.read.csv('./data/address.csv', header=True, inferSchema=True)\n",
    "category_df = spark.read.csv('./data/category.csv', header=True, inferSchema=True)\n",
    "city_df = spark.read.csv('./data/city.csv', header=True, inferSchema=True)\n",
    "country_df = spark.read.csv('./data/country.csv', header=True, inferSchema=True)\n",
    "customer_df = spark.read.csv('./data/customer.csv', header=True, inferSchema=True)\n",
    "film_df = spark.read.csv('./data/film.csv', header=True, inferSchema=True)\n",
    "film_actor_df = spark.read.csv('./data/film_actor.csv', header=True, inferSchema=True)\n",
    "film_category_df = spark.read.csv('./data/film_category.csv', header=True, inferSchema=True)\n",
    "inventory_df = spark.read.csv('./data/inventory.csv', header=True, inferSchema=True)\n",
    "language_df = spark.read.csv('./data/language.csv', header=True, inferSchema=True)\n",
    "payment_df = spark.read.csv('./data/payment.csv', header=True, inferSchema=True)\n",
    "rental_df = spark.read.csv('./data/rental.csv', header=True, inferSchema=True)\n",
    "staff_df = spark.read.csv('./data/staff.csv', header=True, inferSchema=True)\n",
    "store_df = spark.read.csv('./data/store.csv', header=True, inferSchema=True)"
   ],
   "outputs": [],
   "execution_count": 3
  },
  {
   "cell_type": "markdown",
   "metadata": {
    "collapsed": false
   },
   "source": [
    "# Домашнє завдання на тему Spark SQL\n",
    "\n",
    "Задачі з домашнього завдання на SQL потрібно розвʼязати за допомогою Spark SQL DataFrame API.\n",
    "\n",
    "- Дампи таблиць знаходяться в папці `data`. Датафрейми таблиць вже створені в клітинці вище.\n",
    "- Можете створювати стільки нових клітинок, скільки вам необхідно.\n",
    "- Розвʼязок кожної задачі має бути відображений в самому файлі (використати метод `.show()`)\n",
    "- код має бути оформлений у відповідності із одним із стилем, показаним лектором на занятті 13.\n",
    "\n",
    "**Увага!**\n",
    "Використовувати мову запитів SQL безпосередньо забороняється, потрібно використовувати виключно DataFrame API!\n"
   ]
  },
  {
   "cell_type": "markdown",
   "metadata": {
    "collapsed": false
   },
   "source": [
    "1.\n",
    "Вивести кількість фільмів в кожній категорії.\n",
    "Результат відсортувати за спаданням."
   ]
  },
  {
   "cell_type": "code",
   "metadata": {
    "collapsed": false,
    "ExecuteTime": {
     "end_time": "2024-05-29T18:38:21.461428Z",
     "start_time": "2024-05-29T18:38:21.026884Z"
    }
   },
   "source": [
    "t = film_category_df.join(category_df, film_category_df.category_id == category_df.category_id) \\\n",
    "                 .select(col(\"name\"), col(\"film_id\"))\n",
    "\n",
    "result = t.groupBy(\"name\") \\\n",
    "          .agg(count(\"film_id\").alias(\"count_films\")) \\\n",
    "          .orderBy(col(\"count_films\").desc())\n",
    "\n",
    "result.show()"
   ],
   "outputs": [
    {
     "name": "stdout",
     "output_type": "stream",
     "text": [
      "+-----------+-----------+\n",
      "|       name|count_films|\n",
      "+-----------+-----------+\n",
      "|     Sports|         74|\n",
      "|    Foreign|         73|\n",
      "|     Family|         69|\n",
      "|Documentary|         68|\n",
      "|  Animation|         66|\n",
      "|     Action|         64|\n",
      "|        New|         63|\n",
      "|      Drama|         62|\n",
      "|      Games|         61|\n",
      "|     Sci-Fi|         61|\n",
      "|   Children|         60|\n",
      "|     Comedy|         58|\n",
      "|     Travel|         57|\n",
      "|   Classics|         57|\n",
      "|     Horror|         56|\n",
      "|      Music|         51|\n",
      "+-----------+-----------+\n",
      "\n"
     ]
    }
   ],
   "execution_count": 7
  },
  {
   "cell_type": "markdown",
   "metadata": {
    "collapsed": false
   },
   "source": [
    "2.\n",
    "Вивести 10 акторів, чиї фільми брали на прокат найбільше.\n",
    "Результат відсортувати за спаданням."
   ]
  },
  {
   "cell_type": "code",
   "metadata": {
    "collapsed": false,
    "ExecuteTime": {
     "end_time": "2024-05-29T18:41:43.970071Z",
     "start_time": "2024-05-29T18:41:43.040331Z"
    }
   },
   "source": [
    "joined_df = rental_df.join(inventory_df, rental_df.inventory_id == inventory_df.inventory_id) \\\n",
    "                  .join(film_df, inventory_df.film_id == film_df.film_id) \\\n",
    "                  .join(film_actor_df, film_df.film_id == film_actor_df.film_id) \\\n",
    "                  .join(actor_df, film_actor_df.actor_id == actor_df.actor_id)\n",
    "\n",
    "joined_df = joined_df.withColumn(\"actor_name\", concat_ws(\" \", col(\"first_name\"), col(\"last_name\")))\n",
    "\n",
    "result = joined_df.groupBy(\"actor_name\") \\\n",
    "                  .agg(count(\"rental_id\").alias(\"total_rent\")) \\\n",
    "                  .orderBy(col(\"total_rent\").desc()) \\\n",
    "                  .limit(10)\n",
    "\n",
    "result.show()"
   ],
   "outputs": [
    {
     "name": "stdout",
     "output_type": "stream",
     "text": [
      "+------------------+----------+\n",
      "|        actor_name|total_rent|\n",
      "+------------------+----------+\n",
      "|       SUSAN DAVIS|       825|\n",
      "|    GINA DEGENERES|       753|\n",
      "|    MATTHEW CARREY|       678|\n",
      "|       MARY KEITEL|       674|\n",
      "|ANGELA WITHERSPOON|       654|\n",
      "|       WALTER TORN|       640|\n",
      "|       HENRY BERRY|       612|\n",
      "|       JAYNE NOLTE|       611|\n",
      "|        VAL BOLGER|       605|\n",
      "|     SANDRA KILMER|       604|\n",
      "+------------------+----------+\n",
      "\n"
     ]
    }
   ],
   "execution_count": 9
  },
  {
   "cell_type": "markdown",
   "metadata": {
    "collapsed": false
   },
   "source": [
    "3.\n",
    "Вивести категорія фільмів, на яку було витрачено найбільше грошей\n",
    "в прокаті"
   ]
  },
  {
   "cell_type": "code",
   "metadata": {
    "collapsed": false,
    "ExecuteTime": {
     "end_time": "2024-05-29T19:14:43.062522Z",
     "start_time": "2024-05-29T19:14:42.606422Z"
    }
   },
   "source": [
    "joined_df = payment_df.join(rental_df, payment_df.rental_id == rental_df.rental_id) \\\n",
    "                   .join(inventory_df, rental_df.inventory_id == inventory_df.inventory_id) \\\n",
    "                   .join(film_df, inventory_df.film_id == film_df.film_id) \\\n",
    "                   .join(film_category_df, film_df.film_id == film_category_df.film_id) \\\n",
    "                   .join(category_df, film_category_df.category_id == category_df.category_id)\n",
    "\n",
    "result = joined_df.groupBy(\"name\") \\\n",
    "                  .agg(_sum(\"amount\").alias(\"total_amount\")) \\\n",
    "                  .orderBy(col(\"total_amount\").desc()) \\\n",
    "                  .limit(1) \\\n",
    "                  .select(col(\"name\").alias(\"category\"))\n",
    "\n",
    "result.show()"
   ],
   "outputs": [
    {
     "name": "stdout",
     "output_type": "stream",
     "text": [
      "+--------+\n",
      "|category|\n",
      "+--------+\n",
      "|  Sports|\n",
      "+--------+\n",
      "\n"
     ]
    }
   ],
   "execution_count": 21
  },
  {
   "cell_type": "markdown",
   "metadata": {
    "collapsed": false
   },
   "source": [
    "4.\n",
    "Вивести назви фільмів, яких не має в inventory."
   ]
  },
  {
   "cell_type": "code",
   "metadata": {
    "collapsed": false,
    "ExecuteTime": {
     "end_time": "2024-05-29T19:18:31.480971Z",
     "start_time": "2024-05-29T19:18:31.188324Z"
    }
   },
   "source": [
    "result = film_df.join(inventory_df, film_df.film_id == inventory_df.film_id, \"left_anti\") \\\n",
    "             .select(col(\"title\").alias(\"film_titles\")) \\\n",
    "             .distinct()\n",
    "\n",
    "result.show()"
   ],
   "outputs": [
    {
     "name": "stdout",
     "output_type": "stream",
     "text": [
      "+--------------------+\n",
      "|         film_titles|\n",
      "+--------------------+\n",
      "|       RAINBOW SHOCK|\n",
      "|           GUMP DATE|\n",
      "|         HOCUS FRIDA|\n",
      "|    TREASURE COMMAND|\n",
      "| CHINATOWN GLADIATOR|\n",
      "|        WALLS ARTIST|\n",
      "|      ARGONAUTS TOWN|\n",
      "|       PSYCHO SHRUNK|\n",
      "|   FIREHOUSE VIETNAM|\n",
      "|DELIVERANCE MULHO...|\n",
      "|       ROOF CHAMPION|\n",
      "|        TADPOLE PARK|\n",
      "|         APOLLO TEEN|\n",
      "|       HATE HANDICAP|\n",
      "|       PEARL DESTINY|\n",
      "|COMMANDMENTS EXPRESS|\n",
      "|        VOLUME HOUSE|\n",
      "|     CROWDS TELEMARK|\n",
      "|   RAIDERS ANTITRUST|\n",
      "|    KILL BROTHERHOOD|\n",
      "+--------------------+\n",
      "only showing top 20 rows\n",
      "\n"
     ]
    }
   ],
   "execution_count": 22
  },
  {
   "cell_type": "markdown",
   "metadata": {
    "collapsed": false
   },
   "source": [
    "5.\n",
    "Вивести топ 3 актори, які найбільше зʼявлялись в категорії фільмів “Children”"
   ]
  },
  {
   "cell_type": "code",
   "metadata": {
    "collapsed": false,
    "pycharm": {
     "is_executing": true
    },
    "ExecuteTime": {
     "end_time": "2024-05-29T19:32:20.286321Z",
     "start_time": "2024-05-29T19:32:19.820660Z"
    }
   },
   "source": [
    "children_category = category_df.filter(col(\"name\") == \"Children\")\n",
    "\n",
    "joined_df = children_category.alias('c') \\\n",
    "                             .join(film_category_df.alias('fc'), col('c.category_id') == col('fc.category_id')) \\\n",
    "                             .join(film_actor_df.alias('fa'), col('fc.film_id') == col('fa.film_id')) \\\n",
    "                             .join(actor_df.alias('a'), col('fa.actor_id') == col('a.actor_id'))\n",
    "\n",
    "joined_df = joined_df.withColumn(\"actor_name\", concat_ws(\" \", col(\"first_name\"), col(\"last_name\")))\n",
    "\n",
    "result = joined_df.groupBy(\"actor_name\") \\\n",
    "                  .agg(count(\"fa.film_id\").alias(\"total_films\")) \\\n",
    "                  .orderBy(col(\"total_films\").desc()) \\\n",
    "                  .limit(3)\n",
    "\n",
    "result.show()"
   ],
   "outputs": [
    {
     "name": "stdout",
     "output_type": "stream",
     "text": [
      "+------------+-----------+\n",
      "|  actor_name|total_films|\n",
      "+------------+-----------+\n",
      "|HELEN VOIGHT|          7|\n",
      "| SUSAN DAVIS|          6|\n",
      "|  MARY TANDY|          5|\n",
      "+------------+-----------+\n",
      "\n"
     ]
    }
   ],
   "execution_count": 24
  },
  {
   "cell_type": "code",
   "execution_count": null,
   "metadata": {
    "collapsed": false
   },
   "outputs": [],
   "source": []
  },
  {
   "cell_type": "markdown",
   "metadata": {
    "collapsed": false
   },
   "source": [
    "Stop Spark session:"
   ]
  },
  {
   "cell_type": "code",
   "metadata": {
    "collapsed": false,
    "ExecuteTime": {
     "end_time": "2024-05-29T19:33:42.827405Z",
     "start_time": "2024-05-29T19:33:42.631167Z"
    }
   },
   "source": [
    "spark.stop()"
   ],
   "outputs": [],
   "execution_count": 25
  }
 ],
 "metadata": {
  "kernelspec": {
   "display_name": "Python 3",
   "language": "python",
   "name": "python3"
  },
  "language_info": {
   "codemirror_mode": {
    "name": "ipython",
    "version": 2
   },
   "file_extension": ".py",
   "mimetype": "text/x-python",
   "name": "python",
   "nbconvert_exporter": "python",
   "pygments_lexer": "ipython2",
   "version": "2.7.6"
  }
 },
 "nbformat": 4,
 "nbformat_minor": 0
}
